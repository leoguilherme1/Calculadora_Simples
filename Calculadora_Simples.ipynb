{
  "nbformat": 4,
  "nbformat_minor": 0,
  "metadata": {
    "colab": {
      "provenance": [],
      "authorship_tag": "ABX9TyNsIOVBGIIKrY9VFSzmFazn",
      "include_colab_link": true
    },
    "kernelspec": {
      "name": "python3",
      "display_name": "Python 3"
    },
    "language_info": {
      "name": "python"
    }
  },
  "cells": [
    {
      "cell_type": "markdown",
      "metadata": {
        "id": "view-in-github",
        "colab_type": "text"
      },
      "source": [
        "<a href=\"https://colab.research.google.com/github/leoguilherme1/Calculadora_Simples/blob/main/Calculadora_Simples.ipynb\" target=\"_parent\"><img src=\"https://colab.research.google.com/assets/colab-badge.svg\" alt=\"Open In Colab\"/></a>"
      ]
    },
    {
      "cell_type": "code",
      "execution_count": null,
      "metadata": {
        "colab": {
          "base_uri": "https://localhost:8080/"
        },
        "id": "UEPKQ4SxicGe",
        "outputId": "2b5fb08b-2ace-4c59-ea19-cd0d0a7bf11f"
      },
      "outputs": [
        {
          "output_type": "stream",
          "name": "stdout",
          "text": [
            "Selecione a operação:\n",
            "1. Adição\n",
            "2. Subtração\n",
            "3. Multiplicação\n",
            "4. Divisão\n",
            "Digite a sua escolha (1/2/3/4): 1\n",
            "Digite o primeiro número: 5\n",
            "Digite o segundo número: 5\n",
            "Resultado: 10.0\n"
          ]
        }
      ],
      "source": [
        "def adicao(x, y):\n",
        "    return x + y\n",
        "\n",
        "def subtracao(x, y):\n",
        "    return x - y\n",
        "\n",
        "def multiplicacao(x, y):\n",
        "    return x * y\n",
        "\n",
        "def divisao(x, y):\n",
        "    if y == 0:\n",
        "        return \"Erro! Divisão por zero!\"\n",
        "    else:\n",
        "        return x / y\n",
        "\n",
        "print(\"Selecione a operação:\")\n",
        "print(\"1. Adição\")\n",
        "print(\"2. Subtração\")\n",
        "print(\"3. Multiplicação\")\n",
        "print(\"4. Divisão\")\n",
        "\n",
        "escolha = input(\"Digite a sua escolha (1/2/3/4): \")\n",
        "\n",
        "num1 = float(input(\"Digite o primeiro número: \"))\n",
        "num2 = float(input(\"Digite o segundo número: \"))\n",
        "\n",
        "if escolha == '1':\n",
        "    print(\"Resultado:\", adicao(num1, num2))\n",
        "elif escolha == '2':\n",
        "    print(\"Resultado:\", subtracao(num1, num2))\n",
        "elif escolha == '3':\n",
        "    print(\"Resultado:\", multiplicacao(num1, num2))\n",
        "elif escolha == '4':\n",
        "    print(\"Resultado:\", divisao(num1, num2))\n",
        "else:\n",
        "    print(\"Escolha inválida\")"
      ]
    }
  ]
}